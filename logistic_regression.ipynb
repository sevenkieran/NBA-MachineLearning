{
 "cells": [
  {
   "cell_type": "code",
   "execution_count": 13,
   "metadata": {},
   "outputs": [],
   "source": [
    "import pandas as pd\n",
    "\n",
    "from sklearn.model_selection import train_test_split\n",
    "from sklearn.linear_model import LogisticRegression\n",
    "from sklearn import metrics\n",
    "from sklearn.metrics import classification_report\n",
    "\n",
    "import numpy as np\n",
    "import matplotlib.pyplot as plt\n",
    "import seaborn as sns"
   ]
  },
  {
   "cell_type": "code",
   "execution_count": 14,
   "metadata": {},
   "outputs": [
    {
     "name": "stdout",
     "output_type": "stream",
     "text": [
      "Initial columns: ['top', 'left', 'date', 'qtr', 'time_remaining', 'result', 'shot_type', 'distance_ft', 'lead', 'lebron_team_score', 'opponent_team_score', 'opponent', 'team', 'season', 'color']\n",
      "\n",
      "Final head:\n",
      "   top  left  result  shot_type  distance_ft\n",
      "0  310   203   False          3           26\n",
      "1  213   259   False          2           16\n",
      "2  143   171   False          2           11\n",
      "3   68   215    True          2            3\n",
      "4   66   470   False          3           23\n"
     ]
    }
   ],
   "source": [
    "# Read dataset\n",
    "df = pd.read_csv(\"1_lebron_james_shot_chart_1_2023.csv\")\n",
    "print(f\"Initial columns: {df.columns.tolist()}\\n\")\n",
    "\n",
    "# Drop columns\n",
    "columns_to_drop = [\n",
    "    \"season\",\n",
    "    \"color\",\n",
    "    \"opponent_team_score\",\n",
    "    \"date\",\n",
    "    \"qtr\",\n",
    "    \"time_remaining\",\n",
    "    \"lebron_team_score\",\n",
    "    \"lead\",\n",
    "    \"opponent\",\n",
    "    \"team\",\n",
    "]\n",
    "\n",
    "df.drop(columns_to_drop, axis=1, inplace=True)\n",
    "print(f\"Final head:\\n{df.head()}\")"
   ]
  },
  {
   "cell_type": "code",
   "execution_count": 15,
   "metadata": {},
   "outputs": [
    {
     "name": "stdout",
     "output_type": "stream",
     "text": [
      "   top  left  shot_type  distance_ft\n",
      "0  310   203          3           26\n",
      "1  213   259          2           16\n",
      "2  143   171          2           11\n",
      "3   68   215          2            3\n",
      "4   66   470          3           23\n",
      "\n",
      " 0    False\n",
      "1    False\n",
      "2    False\n",
      "3     True\n",
      "4    False\n",
      "Name: result, dtype: bool\n"
     ]
    }
   ],
   "source": [
    "# Split data\n",
    "X = df[[\"top\", \"left\", \"shot_type\", \"distance_ft\"]]\n",
    "y = df.result\n",
    "\n",
    "print(X.head())\n",
    "print(\"\\n\", y.head())\n",
    "X_train, X_test, y_train, y_test = train_test_split(\n",
    "    X, y, test_size=0.25, random_state=16\n",
    ")\n"
   ]
  },
  {
   "cell_type": "code",
   "execution_count": 16,
   "metadata": {},
   "outputs": [],
   "source": [
    "# Initialize model\n",
    "logreg = LogisticRegression(random_state=16)\n",
    "logreg.fit(X_train, y_train)\n",
    "y_pred = logreg.predict(X_test)"
   ]
  },
  {
   "cell_type": "code",
   "execution_count": 17,
   "metadata": {},
   "outputs": [
    {
     "name": "stdout",
     "output_type": "stream",
     "text": [
      "Confusion matrix: [[121  55]\n",
      " [ 61 147]]\n"
     ]
    },
    {
     "data": {
      "text/plain": [
       "Text(0.5, 427.9555555555555, 'Predicted label')"
      ]
     },
     "execution_count": 17,
     "metadata": {},
     "output_type": "execute_result"
    },
    {
     "data": {
      "image/png": "[encoded data removed]",
      "text/plain": [
       "<Figure size 640x480 with 2 Axes>"
      ]
     },
     "metadata": {},
     "output_type": "display_data"
    }
   ],
   "source": [
    "cnf_matrix = metrics.confusion_matrix(y_test, y_pred)\n",
    "print(f\"Confusion matrix: {cnf_matrix}\")\n",
    "\n",
    "class_names = y.unique()  # name  of classes\n",
    "fig, ax = plt.subplots()\n",
    "tick_marks = np.arange(len(class_names))\n",
    "plt.xticks(tick_marks, class_names)\n",
    "plt.yticks(tick_marks, class_names)\n",
    "# create heatmap\n",
    "sns.heatmap(pd.DataFrame(cnf_matrix), annot=True, cmap=\"YlGnBu\", fmt=\"g\")\n",
    "ax.xaxis.set_label_position(\"top\")\n",
    "plt.tight_layout()\n",
    "plt.title(\"Confusion matrix\", y=1.1)\n",
    "plt.ylabel(\"Actual label\")\n",
    "plt.xlabel(\"Predicted label\")"
   ]
  },
  {
   "cell_type": "code",
   "execution_count": 18,
   "metadata": {},
   "outputs": [
    {
     "name": "stdout",
     "output_type": "stream",
     "text": [
      "              precision    recall  f1-score   support\n",
      "\n",
      "   Shot Miss       0.66      0.69      0.68       176\n",
      "   Shot Make       0.73      0.71      0.72       208\n",
      "\n",
      "    accuracy                           0.70       384\n",
      "   macro avg       0.70      0.70      0.70       384\n",
      "weighted avg       0.70      0.70      0.70       384\n",
      "\n"
     ]
    }
   ],
   "source": [
    "# Show metrics\n",
    "target_names = ['Shot Miss', 'Shot Make']\n",
    "print(classification_report(y_test, y_pred, target_names=target_names))"
   ]
  }
 ],
 "metadata": {
  "kernelspec": {
   "display_name": ".venv",
   "language": "python",
   "name": "python3"
  },
  "language_info": {
   "codemirror_mode": {
    "name": "ipython",
    "version": 3
   },
   "file_extension": ".py",
   "mimetype": "text/x-python",
   "name": "python",
   "nbconvert_exporter": "python",
   "pygments_lexer": "ipython3",
   "version": "3.10.12"
  }
 },
 "nbformat": 4,
 "nbformat_minor": 2
}
